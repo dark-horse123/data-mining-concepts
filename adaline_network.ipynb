{
 "cells": [
  {
   "cell_type": "code",
   "execution_count": 1,
   "metadata": {
    "collapsed": true
   },
   "outputs": [],
   "source": [
    "import numpy as np\n",
    "import pandas as pd\n",
    "import random\n",
    "from sklearn import datasets\n",
    "from sklearn.preprocessing import StandardScaler\n",
    "from sklearn.cross_validation import train_test_split\n",
    "from sklearn.metrics.pairwise import euclidean_distances\n",
    "from matplotlib import pyplot as plt\n",
    "import warnings\n",
    "warnings.filterwarnings('ignore')\n",
    "iris = datasets.load_iris()"
   ]
  },
  {
   "cell_type": "code",
   "execution_count": 2,
   "metadata": {
    "collapsed": false
   },
   "outputs": [],
   "source": [
    "scaler = StandardScaler()\n",
    "iris_scaled = scaler.fit_transform(iris.data)\n",
    "X = iris_scaled\n",
    "y = [[1] if target == 0 else [0] for target in iris.target]\n",
    "\n",
    "X_train, X_test, y_train, y_test = train_test_split(X, y, test_size = 0.25, random_state = 50)\n",
    "%matplotlib inline"
   ]
  },
  {
   "cell_type": "code",
   "execution_count": 3,
   "metadata": {
    "collapsed": false
   },
   "outputs": [
    {
     "data": {
      "text/plain": [
       "1"
      ]
     },
     "execution_count": 3,
     "metadata": {},
     "output_type": "execute_result"
    }
   ],
   "source": [
    "import math\n",
    "weights = [2 for i in range(3)]\n",
    "weights\n",
    "y[0][0]"
   ]
  },
  {
   "cell_type": "code",
   "execution_count": 31,
   "metadata": {
    "collapsed": true
   },
   "outputs": [],
   "source": [
    "class adaline_net(object):\n",
    "    \n",
    "    def __init__(self):\n",
    "        self.h = [0 for i in range(len(X_train))]\n",
    "        self.g = [0 for i in range(len(X_train))]\n",
    "        self.weights = [5 for i in range(3)]\n",
    "        self.error = [0 for i in range(len(X_train))]\n",
    "        self.learning_rate = 0.01\n",
    "        \n",
    "    def sigmoid(self, x):\n",
    "        return 1 / (1 + np.exp(-x))\n",
    "        \n",
    "    def find_error(self):\n",
    "        h = self.h\n",
    "        weights = self.weights\n",
    "        g = self.g\n",
    "        j = 0\n",
    "        for tuples in X_train:\n",
    "            for i in range(2):\n",
    "                h[j] = h[j] + weights[i] * tuples[i]\n",
    "            h[j] = h[j] + weights[2] * 1\n",
    "            g[j] = self.sigmoid(h[j])\n",
    "            self.error[j] = y_train[j][0] - g[j]\n",
    "            j = j + 1\n",
    "    \n",
    "    def update_weights(self):\n",
    "        h = self.h\n",
    "        weights = self.weights\n",
    "        error = self.error\n",
    "        j = 0\n",
    "        for tuples in X_train:\n",
    "            for i in range(2):\n",
    "                self.weights[i] = self.weights[i] + self.learning_rate * tuples[i] * error[j]\n",
    "            self.weights[i] = self.weights[i] + self.learning_rate * 1 * error[j]\n",
    "            j = j + 1\n",
    "    \n",
    "    def iterationx(self):\n",
    "        self.find_error()\n",
    "        self.update_weights()\n",
    "    \n",
    "    def predictions(self, t1):\n",
    "        p = 0\n",
    "        for i in range(2):\n",
    "            p = p + self.weights[i] * t1[i]\n",
    "#         print self.sigmoid(p)\n",
    "        return self.sigmoid(p)"
   ]
  },
  {
   "cell_type": "code",
   "execution_count": 32,
   "metadata": {
    "collapsed": false
   },
   "outputs": [
    {
     "name": "stdout",
     "output_type": "stream",
     "text": [
      "1.0\n"
     ]
    }
   ],
   "source": [
    "from sklearn.metrics import accuracy_score\n",
    "obj = adaline_net()\n",
    "for i in range(50):\n",
    "    obj.iterationx()\n",
    "    \n",
    "prediction = [0 for i in range(len(y_test))]\n",
    "j = 0\n",
    "# print X_test\n",
    "for tuples in X_test:\n",
    "    prediction[j] = round(obj.predictions(tuples))\n",
    "    j = j + 1\n",
    "\n",
    "obj.g = [round(i) for i in obj.g]\n",
    "print(accuracy_score(y_test, prediction))\n",
    "# print(obj.error)"
   ]
  },
  {
   "cell_type": "code",
   "execution_count": null,
   "metadata": {
    "collapsed": false
   },
   "outputs": [],
   "source": []
  }
 ],
 "metadata": {
  "anaconda-cloud": {},
  "kernelspec": {
   "display_name": "Python [conda root]",
   "language": "python",
   "name": "conda-root-py"
  },
  "language_info": {
   "codemirror_mode": {
    "name": "ipython",
    "version": 2
   },
   "file_extension": ".py",
   "mimetype": "text/x-python",
   "name": "python",
   "nbconvert_exporter": "python",
   "pygments_lexer": "ipython2",
   "version": "2.7.12"
  }
 },
 "nbformat": 4,
 "nbformat_minor": 0
}
