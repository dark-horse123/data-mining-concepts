{
 "cells": [
  {
   "cell_type": "code",
   "execution_count": 1,
   "metadata": {
    "collapsed": false
   },
   "outputs": [],
   "source": [
    "import numpy as np\n",
    "import pandas as pd\n",
    "import random\n",
    "from sklearn import datasets\n",
    "from sklearn.preprocessing import StandardScaler\n",
    "from sklearn.cross_validation import train_test_split\n",
    "from sklearn.metrics.pairwise import euclidean_distances\n",
    "from sklearn.metrics import accuracy_score\n",
    "from matplotlib import pyplot as plt\n",
    "import warnings\n",
    "warnings.filterwarnings('ignore')\n",
    "iris = datasets.load_iris()"
   ]
  },
  {
   "cell_type": "code",
   "execution_count": 2,
   "metadata": {
    "collapsed": false
   },
   "outputs": [],
   "source": [
    "scaler = StandardScaler()\n",
    "iris_scaled = scaler.fit_transform(iris.data)\n",
    "X = iris_scaled\n",
    "y = np.array([1 if target == 0 else 0 for target in iris.target])\n",
    "\n",
    "X_train, X_test, y_train, y_test = train_test_split(X, y, test_size = 0.25, random_state = 50)\n",
    "%matplotlib inline"
   ]
  },
  {
   "cell_type": "code",
   "execution_count": 3,
   "metadata": {
    "collapsed": true
   },
   "outputs": [],
   "source": [
    "class AdalineNet(object):\n",
    "    \n",
    "    def __init__(self, X, y):\n",
    "        self.X = np.array([np.append(row, 1) for row in X[:,:2]]).reshape(len(X), 3)\n",
    "        self.y = y\n",
    "        self.weights = np.array([0 for i in range(3)]).reshape(1, 3)\n",
    "        self.learning_rate = 0.01\n",
    "        \n",
    "    def sigmoid(self, x):\n",
    "        return 1.0 / (1.0 + np.exp(-x))\n",
    "        \n",
    "    def forward_pass(self, epochs):\n",
    "        for i in range(epochs):\n",
    "            index = 0\n",
    "            for row in self.X:\n",
    "                row = row.reshape(3, 1)\n",
    "                h = np.matmul(self.weights, row)\n",
    "                g = self.sigmoid(h)\n",
    "                error = self.y[index] - g\n",
    "                self.update_weights(error, row)\n",
    "                index += 1\n",
    "    \n",
    "    def update_weights(self, error, row):\n",
    "        self.weights = self.weights + self.learning_rate * error * row.transpose()\n",
    "    \n",
    "    def predict(self, t1):\n",
    "        p = np.matmul(self.weights, t1)\n",
    "        return self.sigmoid(p[0])"
   ]
  },
  {
   "cell_type": "code",
   "execution_count": 4,
   "metadata": {
    "collapsed": false
   },
   "outputs": [
    {
     "name": "stdout",
     "output_type": "stream",
     "text": [
      "1.0\n"
     ]
    },
    {
     "data": {
      "text/plain": [
       "array([[-1.58563931,  1.23246451, -0.84385254]])"
      ]
     },
     "execution_count": 4,
     "metadata": {},
     "output_type": "execute_result"
    }
   ],
   "source": [
    "obj = AdalineNet(X_train, y_train)\n",
    "obj.forward_pass(10)\n",
    "predictions = []\n",
    "for row in X_test[:,:2]:\n",
    "    row = np.append(row, 1).reshape(3, 1)\n",
    "    predictions.append(obj.predict(row))\n",
    "predictions = [np.round(p) for p in predictions]\n",
    "print(accuracy_score(y_test, predictions))\n",
    "obj.weights"
   ]
  },
  {
   "cell_type": "code",
   "execution_count": null,
   "metadata": {
    "collapsed": true
   },
   "outputs": [],
   "source": []
  }
 ],
 "metadata": {
  "anaconda-cloud": {},
  "kernelspec": {
   "display_name": "Python 3",
   "language": "python",
   "name": "python3"
  },
  "language_info": {
   "codemirror_mode": {
    "name": "ipython",
    "version": 3
   },
   "file_extension": ".py",
   "mimetype": "text/x-python",
   "name": "python",
   "nbconvert_exporter": "python",
   "pygments_lexer": "ipython3",
   "version": "3.5.2"
  }
 },
 "nbformat": 4,
 "nbformat_minor": 0
}
