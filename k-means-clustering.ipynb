{
 "cells": [
  {
   "cell_type": "code",
   "execution_count": null,
   "metadata": {
    "collapsed": false
   },
   "outputs": [],
   "source": [
    "import numpy as np\n",
    "import pandas as pd\n",
    "import random\n",
    "from sklearn import datasets\n",
    "from sklearn.preprocessing import StandardScaler\n",
    "from sklearn.cross_validation import train_test_split\n",
    "from sklearn.metrics.pairwise import euclidean_distances\n",
    "from matplotlib import pyplot as plt\n",
    "import warnings\n",
    "warnings.filterwarnings('ignore')\n",
    "iris = datasets.load_iris()"
   ]
  },
  {
   "cell_type": "code",
   "execution_count": null,
   "metadata": {
    "collapsed": false
   },
   "outputs": [],
   "source": [
    "scaler = StandardScaler()\n",
    "iris_scaled = scaler.fit_transform(iris.data)\n",
    "X = iris_scaled\n",
    "y = [[1] if target == 0 else [0] for target in iris.target]\n",
    "\n",
    "X_train, X_test, y_train, y_test = train_test_split(X, y, test_size = 0.25, random_state = 50)\n",
    "%matplotlib inline"
   ]
  },
  {
   "cell_type": "code",
   "execution_count": null,
   "metadata": {
    "collapsed": false
   },
   "outputs": [],
   "source": [
    "import math\n",
    "class KMeans(object):\n",
    "    \n",
    "    def __init__(self, k):\n",
    "        self.k = k\n",
    "        self.buckets = [[] for i in range(k)]\n",
    "        self.clusters = [0 for i in range(len(X))]\n",
    "        \n",
    "    def find_initial_means(self, k):\n",
    "        self.buckets = [[num / 100.0 for num in random.sample(range(0, 100), 4)] for i in range(k)]\n",
    "\n",
    "    def euclidean_distance(self, t1, t2):\n",
    "        test = []\n",
    "        for i in t1:\n",
    "            test.append(t1)\n",
    "        t = [test[0], t2]\n",
    "        \n",
    "        return math.sqrt((test[0][0] - t2[0])**2 + (test[0][1] - t2[1])**2 + (test[0][2] - t2[2])**2 + (test[0][3] - t2[3])**2)\n",
    "    \n",
    "    def cluster(self):\n",
    "        k = self.k\n",
    "        clusters = self.clusters\n",
    "        j = 0\n",
    "        for tuples in X:\n",
    "            min_dist = 10000\n",
    "            c = clusters[j]\n",
    "            for i in range(k):\n",
    "                x = self.euclidean_distance(tuples, self.buckets[i])\n",
    "                if min_dist > x:\n",
    "                    c = i\n",
    "                    min_dist = x\n",
    "            clusters[j] = c\n",
    "            j = j + 1\n",
    "#         print(clusters)\n",
    "            \n",
    "    def find_new_buckets(self):\n",
    "        for i in range(self.k):\n",
    "            s = np.array([0,0,0,0])\n",
    "            n = 0\n",
    "            for j in range(len(X)):\n",
    "                if self.clusters[j] == i:\n",
    "                    s[0] = s[0] + X[j][0]\n",
    "                    s[1] = s[1] + X[j][1]\n",
    "                    s[2] = s[2] + X[j][2]\n",
    "                    s[3] = s[3] + X[j][3]\n",
    "                    n = n + 1\n",
    "            self.buckets[i] = [y / n for y in s if n > 0]\n",
    "            \n",
    "    def jab_tak_hai_jaan(self):\n",
    "        self.find_initial_means(self.k)\n",
    "        for i in range(100):\n",
    "            self.cluster()\n",
    "            self.find_new_buckets()"
   ]
  },
  {
   "cell_type": "code",
   "execution_count": null,
   "metadata": {
    "collapsed": false
   },
   "outputs": [],
   "source": [
    "obj = KMeans(3)\n",
    "obj.jab_tak_hai_jaan()\n",
    "result = obj.clusters\n",
    "\n",
    "print(result)"
   ]
  },
  {
   "cell_type": "code",
   "execution_count": null,
   "metadata": {
    "collapsed": false
   },
   "outputs": [],
   "source": [
    "euclidean_distances([1,2,3,4,5][0:2], [1,2,3,4,5][0:2])[0][0]"
   ]
  },
  {
   "cell_type": "code",
   "execution_count": null,
   "metadata": {
    "collapsed": false
   },
   "outputs": [],
   "source": [
    "plt.scatter(X[:,:1], X[:,1:2], c=result[-150:])"
   ]
  },
  {
   "cell_type": "code",
   "execution_count": null,
   "metadata": {
    "collapsed": false
   },
   "outputs": [],
   "source": [
    "# for tuples in X:\n",
    "#     print(tuples)\n",
    "len(X)"
   ]
  },
  {
   "cell_type": "code",
   "execution_count": null,
   "metadata": {
    "collapsed": false
   },
   "outputs": [],
   "source": [
    "clusters = [0 for i in range(len(X))]\n",
    "len(clusters)"
   ]
  },
  {
   "cell_type": "code",
   "execution_count": null,
   "metadata": {
    "collapsed": false
   },
   "outputs": [],
   "source": [
    "[[1,2],[3,4]]"
   ]
  },
  {
   "cell_type": "code",
   "execution_count": null,
   "metadata": {
    "collapsed": false
   },
   "outputs": [],
   "source": [
    "len(X)"
   ]
  },
  {
   "cell_type": "code",
   "execution_count": null,
   "metadata": {
    "collapsed": false
   },
   "outputs": [],
   "source": [
    "len(result)"
   ]
  },
  {
   "cell_type": "code",
   "execution_count": null,
   "metadata": {
    "collapsed": false
   },
   "outputs": [],
   "source": [
    "obj = KMeans(3)\n",
    "obj.buckets\n",
    "obj.find_initial_means(3)\n",
    "obj.clusters[2] = 1\n",
    "obj.clusters"
   ]
  },
  {
   "cell_type": "code",
   "execution_count": null,
   "metadata": {
    "collapsed": false
   },
   "outputs": [],
   "source": [
    "[[num / 100.0 for num in random.sample(range(10, 100), 4)] for i in range(3)]"
   ]
  },
  {
   "cell_type": "code",
   "execution_count": null,
   "metadata": {
    "collapsed": false
   },
   "outputs": [],
   "source": [
    "print(X[0].T)\n",
    "print(X[0])\n",
    "t = []\n",
    "for i in X[0]:\n",
    "    t.append(i)\n",
    "print(t)"
   ]
  },
  {
   "cell_type": "code",
   "execution_count": null,
   "metadata": {
    "collapsed": false
   },
   "outputs": [],
   "source": [
    "t = [[0.2,0.3,0.4,0.6], [0.2,0.3,0.4,0.5]]\n",
    "euclidean_distances(t, t)[0][1]"
   ]
  },
  {
   "cell_type": "code",
   "execution_count": null,
   "metadata": {
    "collapsed": true
   },
   "outputs": [],
   "source": []
  }
 ],
 "metadata": {
  "anaconda-cloud": {},
  "kernelspec": {
   "display_name": "Python 3",
   "language": "python",
   "name": "python3"
  },
  "language_info": {
   "codemirror_mode": {
    "name": "ipython",
    "version": 3
   },
   "file_extension": ".py",
   "mimetype": "text/x-python",
   "name": "python",
   "nbconvert_exporter": "python",
   "pygments_lexer": "ipython3",
   "version": "3.5.2"
  }
 },
 "nbformat": 4,
 "nbformat_minor": 0
}
