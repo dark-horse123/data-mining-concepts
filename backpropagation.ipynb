{
 "cells": [
  {
   "cell_type": "code",
   "execution_count": 2,
   "metadata": {
    "collapsed": true
   },
   "outputs": [],
   "source": [
    "import numpy as np\n",
    "import pandas as pd\n",
    "import random\n",
    "from sklearn import datasets\n",
    "from sklearn.preprocessing import StandardScaler\n",
    "from sklearn.cross_validation import train_test_split\n",
    "from sklearn.metrics.pairwise import euclidean_distances\n",
    "from matplotlib import pyplot as plt\n",
    "import warnings\n",
    "warnings.filterwarnings('ignore')\n",
    "iris = datasets.load_iris()"
   ]
  },
  {
   "cell_type": "code",
   "execution_count": null,
   "metadata": {
    "collapsed": true
   },
   "outputs": [],
   "source": [
    "%matplotlib inline\n",
    "scaler = StandardScaler()\n",
    "iris_scaled = scaler.fit_transform(iris.data)\n",
    "X = iris_scaled\n",
    "y = [1 if target == 0 else 0 for target in iris.target]\n",
    "\n",
    "X_train, X_test, y_train, y_test = train_test_split(X, y, test_size = 0.25, random_state = 50)"
   ]
  },
  {
   "cell_type": "code",
   "execution_count": 34,
   "metadata": {
    "collapsed": false
   },
   "outputs": [],
   "source": [
    "import math\n",
    "class BackPropagation(object):\n",
    "    \n",
    "    def __init__(self):\n",
    "        self.Weight_IH = np.random.rand(5, 3)\n",
    "        self.Weight_HL = np.random.rand(4, 1)\n",
    "        self.h = []\n",
    "        self.errorl = [0]\n",
    "        self.errorh = [0 for i in range(5)]\n",
    "        self.learning_rate = 0.01\n",
    "        self.Oh = []\n",
    "        \n",
    "    def sigmoid(self, x):\n",
    "        return 1 / (1 + np.exp(-x))\n",
    "    \n",
    "    def forward_pass(self, row):\n",
    "        input_hidden = np.dot(row, self.Weight_IH)\n",
    "        output_hidden = self.sigmoid(input_hidden)\n",
    "        output_hidden = np.append(output_hidden, [1]).reshape(1, 4)\n",
    "        input_final_layer = np.dot(output_hidden, self.Weight_HL.reshape(4, 1))\n",
    "        output_final_layer = self.sigmoid(input_final_layer)\n",
    "        return output_final_layer, output_hidden\n",
    "        \n",
    "    def update_weights(self, row, current_output, output_hidden, target):\n",
    "        error_final_layer = current_output * (1 - current_output) * (target - current_output)\n",
    "#         print(error_final_layer)\n",
    "        error_hidden = output_hidden * (1 - output_hidden) * error_final_layer * self.Weight_HL\n",
    "        error_hidden = error_hidden[: -1]\n",
    "        self.Weight_IH += self.learning_rate*np.dot(row.T, error_hidden.T)\n",
    "        self.Weight_HL += self.learning_rate*np.dot(output_hidden, error_final_layer)\n",
    "        \n",
    "    def train(self, X_train):\n",
    "        for i in range(100):\n",
    "            for row, target in zip(X_train, y_train):\n",
    "                row = np.append(row, [1])\n",
    "                row = row.reshape(1, 5)\n",
    "                current_output, output_hidden = self.forward_pass(row)\n",
    "                output_hidden = output_hidden.reshape((4, 1))\n",
    "                current_output = current_output.reshape((1, 1))\n",
    "                self.update_weights(row, current_output, output_hidden, target)\n",
    "\n",
    "    def predict(self, X_test, y_test):\n",
    "        predictions = []\n",
    "        for row in X_test:\n",
    "            row = np.append(row, [1])\n",
    "            row = row.reshape(1, 5)\n",
    "            current_output, output_hidden = self.forward_pass(row)\n",
    "            predictions.append(current_output)\n",
    "        return predictions"
   ]
  },
  {
   "cell_type": "code",
   "execution_count": 35,
   "metadata": {
    "collapsed": false
   },
   "outputs": [
    {
     "name": "stdout",
     "output_type": "stream",
     "text": [
      "[0.0, 0.0, 1.0, 1.0, 0.0, 0.0, 0.0, 1.0, 1.0, 0.0, 1.0, 0.0, 1.0, 0.0, 0.0, 1.0, 0.0, 1.0, 0.0, 0.0, 0.0, 0.0, 1.0, 0.0, 0.0, 0.0, 0.0, 0.0, 0.0, 0.0, 0.0, 0.0, 0.0, 0.0, 1.0, 1.0, 0.0, 0.0]\n",
      "1.0\n"
     ]
    }
   ],
   "source": [
    "from sklearn.metrics import accuracy_score\n",
    "obj = BackPropagation()\n",
    "obj.train(X_train)\n",
    "predictions = obj.predict(X_test, y_test)\n",
    "predictions = [round(i) for i in predictions]\n",
    "print predictions\n",
    "print accuracy_score(predictions, y_test)"
   ]
  },
  {
   "cell_type": "code",
   "execution_count": null,
   "metadata": {
    "collapsed": false
   },
   "outputs": [],
   "source": [
    "def sigmoid(x):\n",
    "    return 1 / (1 + np.exp(-x))\n",
    "row = X_train[0]\n",
    "row = np.append(row, [1])\n",
    "row = row.reshape(1, 5)\n",
    "# print row\n",
    "wih = np.random.rand(5, 3)\n",
    "ip = np.dot(row, wih)\n",
    "op = sigmoid(ip)\n",
    "op = np.append(op, [1]).reshape(1, 4)\n",
    "# print ip, op\n",
    "\n",
    "Weight_HL = np.random.rand(4, 1)\n",
    "input_final_layer = np.dot(op, Weight_HL.reshape(4, 1))\n",
    "op_fl = sigmoid(input_final_layer)\n",
    "op_fl"
   ]
  },
  {
   "cell_type": "code",
   "execution_count": null,
   "metadata": {
    "collapsed": false
   },
   "outputs": [],
   "source": [
    "import numpy as np\n",
    "np.random.rand(5, 3)"
   ]
  },
  {
   "cell_type": "code",
   "execution_count": null,
   "metadata": {
    "collapsed": false
   },
   "outputs": [],
   "source": [
    "np.random.rand(4, 1).shape"
   ]
  },
  {
   "cell_type": "code",
   "execution_count": null,
   "metadata": {
    "collapsed": false
   },
   "outputs": [],
   "source": [
    "X_train[0].shape"
   ]
  },
  {
   "cell_type": "code",
   "execution_count": 10,
   "metadata": {
    "collapsed": false
   },
   "outputs": [
    {
     "data": {
      "text/plain": [
       "5.695937828403142"
      ]
     },
     "execution_count": 10,
     "metadata": {},
     "output_type": "execute_result"
    }
   ],
   "source": [
    "np.random.rand() * 10"
   ]
  },
  {
   "cell_type": "code",
   "execution_count": null,
   "metadata": {
    "collapsed": true
   },
   "outputs": [],
   "source": []
  }
 ],
 "metadata": {
  "anaconda-cloud": {},
  "kernelspec": {
   "display_name": "Python 3",
   "language": "python",
   "name": "python3"
  },
  "language_info": {
   "codemirror_mode": {
    "name": "ipython",
    "version": 3
   },
   "file_extension": ".py",
   "mimetype": "text/x-python",
   "name": "python",
   "nbconvert_exporter": "python",
   "pygments_lexer": "ipython3",
   "version": "3.5.2"
  }
 },
 "nbformat": 4,
 "nbformat_minor": 0
}
