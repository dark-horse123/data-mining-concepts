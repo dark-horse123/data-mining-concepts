{
 "cells": [
  {
   "cell_type": "code",
   "execution_count": 15,
   "metadata": {
    "collapsed": true
   },
   "outputs": [],
   "source": [
    "import numpy as np\n",
    "import pandas as pd\n",
    "import random\n",
    "from sklearn import datasets\n",
    "from sklearn.preprocessing import StandardScaler\n",
    "from sklearn.cross_validation import train_test_split\n",
    "from sklearn.metrics.pairwise import euclidean_distances\n",
    "from matplotlib import pyplot as plt\n",
    "import warnings\n",
    "warnings.filterwarnings('ignore')\n",
    "iris = datasets.load_iris()"
   ]
  },
  {
   "cell_type": "code",
   "execution_count": 34,
   "metadata": {
    "collapsed": true
   },
   "outputs": [],
   "source": [
    "scaler = StandardScaler()\n",
    "iris_scaled = scaler.fit_transform(iris.data)\n",
    "X = iris_scaled\n",
    "y = [1 if target == 0 else 0 for target in iris.target]\n",
    "\n",
    "X_train, X_test, y_train, y_test = train_test_split(X, y, test_size = 0.25, random_state = 50)"
   ]
  },
  {
   "cell_type": "code",
   "execution_count": 46,
   "metadata": {
    "collapsed": false
   },
   "outputs": [],
   "source": [
    "# print(y)\n",
    "X1 = [x[0] for x in X]\n",
    "X2 = [x[1] for x in X]"
   ]
  },
  {
   "cell_type": "code",
   "execution_count": 49,
   "metadata": {
    "collapsed": false
   },
   "outputs": [
    {
     "data": {
      "image/png": "[encoded data removed]",
      "text/plain": [
       "<matplotlib.figure.Figure at 0x3654f174a8>"
      ]
     },
     "metadata": {},
     "output_type": "display_data"
    }
   ],
   "source": [
    "%matplotlib inline\n",
    "x = np.arange(-3, 3, 0.01)\n",
    "y = np.arange(-3, 3, 0.01)\n",
    "x, y = np.meshgrid(x, y)\n",
    "z = 100 * (y - x ** 2) ** 2 + (1 - x) ** 2\n",
    "plt.figure(figsize = (8, 6))\n",
    "plt.contourf(x, y, z, np.logspace(-1, 3, 31))\n",
    "\n",
    "ax.set_xlim(-10, 10)\n",
    "ax.set_ylim(-10, 10)\n",
    "plt.show()"
   ]
  },
  {
   "cell_type": "code",
   "execution_count": 51,
   "metadata": {
    "collapsed": false
   },
   "outputs": [
    {
     "data": {
      "text/plain": [
       "<function matplotlib.pyplot.show>"
      ]
     },
     "execution_count": 51,
     "metadata": {},
     "output_type": "execute_result"
    },
    {
     "data": {
      "image/png": "[encoded data removed]",
      "text/plain": [
       "<matplotlib.figure.Figure at 0x365b024320>"
      ]
     },
     "metadata": {},
     "output_type": "display_data"
    }
   ],
   "source": [
    "plt.scatter(X1, X2)\n",
    "plt.show"
   ]
  },
  {
   "cell_type": "code",
   "execution_count": 142,
   "metadata": {
    "collapsed": false
   },
   "outputs": [],
   "source": [
    "class simulated_annealing(object):\n",
    "    \n",
    "    def __init__(self, temperature, delta, freezing_point):\n",
    "        self.temperature = temperature\n",
    "        self.delta = delta\n",
    "        self.freezing_point = freezing_point\n",
    "        self.X = (np.random.random_sample(2) - 0.5)\n",
    "        \n",
    "    def dist_func(self, X):\n",
    "        return 100 * (X[0] ** 2 - X[1]) ** 2 + (1 - X[0]) ** 2\n",
    "    \n",
    "    def random_delta(self):\n",
    "        return (np.random.random_sample(2) - 0.5)\n",
    "    \n",
    "    def prob(self, a):\n",
    "        return np.exp(-a / self.temperature)\n",
    "    \n",
    "    def inrange(self, a, b, c):\n",
    "        if(a >= b and a <= c):\n",
    "            return True\n",
    "        return False\n",
    "        \n",
    "    def update_x(self):\n",
    "        while(self.temperature > self.freezing_point):\n",
    "            tempmin = self.X\n",
    "            for n in range(50):\n",
    "                delx = self.random_delta()\n",
    "                newx = tempmin + delx\n",
    "                if(self.inrange(newx[0], -2.78, 2.78) == False or self.inrange(newx[1], -2.78, 2.78) == False):\n",
    "                    continue\n",
    "                oldval = self.dist_func(tempmin)\n",
    "                newval = self.dist_func(newx)\n",
    "                if(newval < oldval):\n",
    "                    tempmin = newx\n",
    "                elif(self.prob(newval - oldval) > 0.8):\n",
    "                    tempmin = newx\n",
    "            self.X = tempmin\n",
    "            self.temperature -= self.delta\n",
    "    "
   ]
  },
  {
   "cell_type": "code",
   "execution_count": 147,
   "metadata": {
    "collapsed": false
   },
   "outputs": [
    {
     "name": "stdout",
     "output_type": "stream",
     "text": [
      "[-0.78199687  0.47277492]\n",
      "5.1005077784\n"
     ]
    }
   ],
   "source": [
    "obj = simulated_annealing(1000, 1, 50)\n",
    "obj.update_x()\n",
    "print(obj.X)\n",
    "print(obj.dist_func(obj.X))"
   ]
  },
  {
   "cell_type": "code",
   "execution_count": 138,
   "metadata": {
    "collapsed": false
   },
   "outputs": [
    {
     "data": {
      "text/plain": [
       "array([ 0.37643906,  0.36458534])"
      ]
     },
     "execution_count": 138,
     "metadata": {},
     "output_type": "execute_result"
    }
   ],
   "source": [
    "np.random.random_sample(2)"
   ]
  },
  {
   "cell_type": "code",
   "execution_count": null,
   "metadata": {
    "collapsed": true
   },
   "outputs": [],
   "source": []
  }
 ],
 "metadata": {
  "anaconda-cloud": {},
  "kernelspec": {
   "display_name": "Python 3",
   "language": "python",
   "name": "python3"
  },
  "language_info": {
   "codemirror_mode": {
    "name": "ipython",
    "version": 3
   },
   "file_extension": ".py",
   "mimetype": "text/x-python",
   "name": "python",
   "nbconvert_exporter": "python",
   "pygments_lexer": "ipython3",
   "version": "3.5.2"
  }
 },
 "nbformat": 4,
 "nbformat_minor": 0
}
