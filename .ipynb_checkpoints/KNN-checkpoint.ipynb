{
 "cells": [
  {
   "cell_type": "code",
   "execution_count": 1,
   "metadata": {
    "collapsed": true
   },
   "outputs": [],
   "source": [
    "import numpy as np\n",
    "import pandas as pd\n",
    "import random\n",
    "from sklearn import datasets\n",
    "from sklearn.preprocessing import StandardScaler\n",
    "from sklearn.cross_validation import train_test_split\n",
    "from sklearn.metrics.pairwise import euclidean_distances\n",
    "from sklearn.metrics import accuracy_score\n",
    "from matplotlib import pyplot as plt\n",
    "import warnings\n",
    "warnings.filterwarnings('ignore')\n",
    "iris = datasets.load_iris()"
   ]
  },
  {
   "cell_type": "code",
   "execution_count": 62,
   "metadata": {
    "collapsed": true
   },
   "outputs": [],
   "source": [
    "scaler = StandardScaler()\n",
    "X = scaler.fit_transform(iris[\"data\"])\n",
    "y = np.array([1 if target == 0 else 0 for target in iris.target])\n",
    "X_train, X_test, y_train, y_test = train_test_split(X, y, test_size = 0.25, random_state = 50)"
   ]
  },
  {
   "cell_type": "code",
   "execution_count": 63,
   "metadata": {
    "collapsed": false
   },
   "outputs": [],
   "source": [
    "from collections import Counter\n",
    "class KNN(object):\n",
    "    \n",
    "    def __init__(self, k, X, y):\n",
    "        self.k = k\n",
    "        self.X = X\n",
    "        self.y = y\n",
    "        \n",
    "    def find_dist(self, t1, t2):\n",
    "        return np.sqrt((t1[0] - t2[0]) ** 2 + (t1[1] - t2[1]) ** 2 + (t1[2] - t2[2]) ** 2 + (t1[3] - t2[3]) ** 2)\n",
    "        \n",
    "    def find_nearest_neighbor(self, t):\n",
    "        min_dist = 0\n",
    "        dist_array = []\n",
    "        for row, target in zip(self.X, self.y):\n",
    "            cur_dist = self.find_dist(row, t)\n",
    "            dist_array.append((cur_dist, target))\n",
    "        dist_array = sorted(dist_array)[:self.k]\n",
    "        dist_array = [t1[1] for t1 in dist_array]\n",
    "        label_count = Counter(dist_array)\n",
    "        return label_count.most_common(1)[0][0]"
   ]
  },
  {
   "cell_type": "code",
   "execution_count": 64,
   "metadata": {
    "collapsed": false
   },
   "outputs": [
    {
     "name": "stdout",
     "output_type": "stream",
     "text": [
      "1.0\n"
     ]
    }
   ],
   "source": [
    "obj = KNN(3, X_train, y_train)\n",
    "predictions = []\n",
    "for row in X_test:\n",
    "    predictions.append(obj.find_nearest_neighbor(row))\n",
    "print(accuracy_score(predictions, y_test))"
   ]
  }
 ],
 "metadata": {
  "anaconda-cloud": {},
  "kernelspec": {
   "display_name": "Python 3",
   "language": "python",
   "name": "python3"
  },
  "language_info": {
   "codemirror_mode": {
    "name": "ipython",
    "version": 3
   },
   "file_extension": ".py",
   "mimetype": "text/x-python",
   "name": "python",
   "nbconvert_exporter": "python",
   "pygments_lexer": "ipython3",
   "version": "3.5.2"
  }
 },
 "nbformat": 4,
 "nbformat_minor": 1
}
